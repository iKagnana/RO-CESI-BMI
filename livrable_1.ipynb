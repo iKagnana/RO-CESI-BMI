{
 "cells": [
  {
   "cell_type": "markdown",
   "metadata": {},
   "source": [
    "# RECHERCHE OPERATIONNELLE - PROJET \n",
    "#### Groupe 2 - Mattéo BOULITEAU -  Kagnana ITH - Nejma MOUALHI\n"
   ]
  },
  {
   "cell_type": "markdown",
   "metadata": {},
   "source": [
    "# Table des matières\n",
    "- [Contexte](#contexte)\n",
    "- [Problématique](#problématique)\n",
    "- [Contraintes](#contraintes)\n",
    "- [Livrables attendus](#livrables-attendus)\n",
    "- [Caractéristiques du problème](#caractéristiques-du-problème)\n",
    "- [1. Modélisation du TSP](#1-modélisation-du-TSP)\n",
    "   - [1.1. Données](#11-données)\n",
    "   - [1.2. Variables de décision](#12-variables-de-décision)\n",
    "   - [1.3. Fonction objectif](#13-fonction-objectif)\n",
    "   - [1.4. Contraintes](#14-contraintes)\n",
    "\n",
    "- [2. Méthode de résolution](#2-méthode-de-résolution)\n",
    "   - [2.1. Méthode exacte : Programme linéaire en nombres entiers (PLNE)](#21-méthode-exacte--programme-linéaire-en-nombres-entiers-plne)\n",
    "      - [2.1.1. Description de la méthode PLNE](#211-description-de-la-méthode-plne)\n",
    "      - [2.1.2. Solveur CPLEX](#212-solveur-cplex)\n",
    "      - [2.1.3. Résultats de la méthode PLNE](#213-résultats-de-la-méthode-plne)\n",
    "   - [2.2. Méthode heuristique ](#22-méthode-heuristique)\n",
    "   - [2.2. Métaheuristique : GRASP](#222-métaheuristique--grasp)\n",
    " \n",
    "- [3. Solution choisie](#3-solution-choisie)\n",
    "    - [3.1. Justification de la solution choisie](#31-justification-de-la-solution-choisie)\n",
    "      - [3.1.1. Comparaison des méthodes](#311-comparaison-des-méthodes)\n",
    "    - [3.2. Présentation de la solution choisie](#32-présentation-de-la-solution-choisie)\n",
    "\n",
    "- [4. Implémentation de la méthode choisie](#4-implémentation-de-la-méthode-choisie)\n",
    "    ...\n",
    "\n",
    "- [5. Conclusion](#5-conclusion)\n",
    "   - [5.1. Analyse des résultats](#51-analyse-des-résultats)\n",
    "\n",
    "\n",
    "\n",
    "- [Bibliographie](#bibliographie)\n"
   ]
  },
  {
   "attachments": {},
   "cell_type": "markdown",
   "metadata": {},
   "source": [
    "\n",
    "## Contexte\n",
    "L’ADEME a lancé un appel à manifestation d’intérêt pour expérimenter de nouvelles solutions de mobilité adaptées aux territoires.\n",
    "\n",
    "Nous sommes CesiCDP, déjà engagés dans la mobilité multimodale intelligente, et nous répondons à cet appel pour obtenir de nouveaux financements. Le projet vise à réduire les déplacements et la consommation des véhicules lors des livraisons, en résolvant un problème algorithmique d’optimisation de tournée sur un réseau routier.\n",
    "\n",
    "## Problématique\n",
    "Nous nous demandons comment optimiser les tournées de livraison pour réduire les déplacements et la consommation des véhicules. Nous devons prendre en compte plusieurs contraintes, telles que la capacité des véhicules, les fenêtres de temps pour les livraisons, et la distance entre les points de livraison.\n",
    "\n",
    "## Contraintes\n",
    "Nous avons décidé de rajouter des contraintes pour rendre le problème plus réaliste en se basant sur un système de livraison de colis. Voici les contraintes que nous avons retenues :\n",
    "1. **Fenêtres temporelles (Time Windows)** : \n",
    "    - Chaque ville doit être visitée dans un certain intervalle de temps. Par exemple, si une ville est disponible uniquement de 8 h à 10 h, le parcours doit respecter cette contrainte.\n",
    "2. **Routes dynamiques ou perturbations** : Les routes peuvent changer pendant la tournée (ex : accidents, météo, fermeture soudaine).\n",
    "    - Simuler des perturbations dans les données.\n",
    "\n",
    "## Livrables attendus\n",
    "1. Modélisation\n",
    "\n",
    "2. Livrable final du projet"
   ]
  },
  {
   "cell_type": "markdown",
   "metadata": {},
   "source": [
    "## Caractéristiques du problème\n",
    "\n",
    "- **Variables de décision** : $x_{ij}$  \n",
    "    $x_{ij}$ représente si le trajet entre la ville $i$ et la ville $j$ est emprunté ou non.\n",
    "\n",
    "- **Contraintes** : \n",
    "    - Chaque ville doit être visitée une seule fois.\n",
    "    - Le point de départ et d'arrivée doit être le même.\n",
    "    - Fenêtre temporelles : Chaque ville doit être visitée dans un certain intervalle de temps.\n",
    "    - Routes dynamiques et perturbations : Prévision de perturbations dans les données.\n",
    "\n",
    "- **Objectif** : Trouver un itinéraire optimisé qui nous permet de passer par toutes les villes de la tournée en une seule fois et retourner au point de départ.\n",
    "\n",
    "Une fois que nous avons explicité le problème, nous allons le modéliser de manière mathématique.  \n",
    "Nous remarquons que notre problème est une version métrique du problème du voyageur de commerce (TSP) avec des contraintes supplémentaires le rendant plus réaliste.\n",
    "\n",
    "### Version algorithmique du problème :\n",
    "\n",
    "- **Donnée** : Un graphe complet pondéré $G(S, A)$ avec un ensemble de sommets $S$ et un ensemble d'arêtes $A$.\n",
    "- **Tâche** : Trouver un cycle hamiltonien dans $G$ en minimisant la somme des poids des arêtes du cycle."
   ]
  },
  {
   "cell_type": "markdown",
   "metadata": {},
   "source": [
    "## 1 - Modélisation du TSP\n",
    "\n",
    "### 1.1 Données\n",
    "\n",
    "- Un ensemble de villes $V = \\{v_1, v_2, \\ldots, v_n\\}$\n",
    "- Un graphe complet pondéré $G = (V, E)$\n",
    "- Une fonction de coût $c_{ij} \\geq 0$, représentant la distance ou le temps entre les villes $i$ et $j$\n",
    "\n",
    "La nature du graphe est la suivante :\n",
    "- On reste sur un graphe complet : on suppose qu'il existe une route (au moins théorique) entre chaque paire de villes. \n",
    "\n",
    "### 1.2 Variables de décision\n",
    "\n",
    "- $x_{ij} \\in \\{0,1\\}$ : vaut 1 si l'on va de la ville $i$ à la ville $j$, 0 sinon\n",
    "\n",
    "### 1.3 Fonction objectif\n",
    "\n",
    "Minimiser la somme des coûts de déplacement :\n",
    "\n",
    "$$\\min \\sum_{i=1}^{n} \\sum_{j=1}^{n} c_{ij} \\cdot x_{ij}$$\n",
    "\n",
    "### 1.4 Contraintes\n",
    "\n",
    "1. Chaque ville est quittée une seule fois :\n",
    "\n",
    "$$\\sum_{j=1}^{n} x_{ij} = 1 \\quad \\forall i \\in \\{1, \\dots, n\\}$$\n",
    "\n",
    "2. Chaque ville est visitée une seule fois :\n",
    "\n",
    "$$\\sum_{i=1}^{n} x_{ij} = 1 \\quad \\forall j \\in \\{1, \\dots, n\\}$$\n",
    "\n",
    "3. Time windows, chaque ville doit être visitée dans un certain intervalle de temps :\n",
    "$$\\forall i \\in \\{1, \\dots, n\\}, \\quad s_i \\leq t_i \\leq e_i$$\n",
    "où : \n",
    "- $s_i$ est le début de la fenêtre temporelle pour la ville $i$\n",
    "- $t_i$ est le temps d'arrivée à la ville $i$\n",
    "- $e_i$ est la fin de la fenêtre temporelle pour la ville $i$\n",
    "\n",
    "4. Routes dynamiques ou perturbations :\n",
    "$$\\forall i,j \\in \\{1, \\dots, n\\}, \\quad c_{ij} = c_{ij}(t)$$\n",
    "où $c_{ij}(t)$ est la distance entre les villes $i$ et $j$ à l'instant $t$. Cette contrainte permet de prendre en compte les changements de conditions de circulation.\n",
    "\n",
    "5. Le point de départ et d'arrivée doit être le même :\n",
    "$$\\sum_{i=1}^{n} x_{0i} = 1$$\n",
    "$$\\sum_{j=1}^{n} x_{j0} = 1$$\n",
    "\n",
    "---\n",
    "\n",
    "Ce problème est connu pour être **NP-difficile** : il n'existe pas d'algorithme polynomial connu permettant de le résoudre dans le cas général. \n",
    "Nous allons nous intéresser à des algorithmes d'approximation, ou méta-heuristiques, qui permettent de trouver des solutions approchées en un temps raisonnable."
   ]
  },
  {
   "cell_type": "markdown",
   "metadata": {},
   "source": [
    "## 2 - Méthode de résolution\n",
    "Dans un premier temps, nous allons aborder la méthode exacte, qui est la méthode de programmation linéaire en nombres entiers (PLNE).\n",
    "\n",
    "### 2.1 Méthode exacte : Programme linéaire en nombres entiers (PLNE)\n",
    "#### 2.1.1 Description de la méthode PLNE\n",
    "La méthode PLNE consiste à modéliser le problème sous forme de programme linéaire, en utilisant des variables de décision binaires pour représenter les choix de parcours entre les villes.\n",
    "\n",
    "#### 2.1.2 Solveur CPLEX\n",
    "Le solveur CPLEX est un outil puissant pour résoudre des problèmes d'optimisation linéaire et entière. Il utilise des algorithmes avancés pour trouver des solutions optimales ou approchées à des problèmes complexes.\n",
    "\n",
    "Nous allons générer les données pour le problème du TSP, puis utiliser CPLEX pour résoudre le problème. \n"
   ]
  },
  {
   "cell_type": "code",
   "execution_count": 4,
   "metadata": {},
   "outputs": [
    {
     "name": "stdout",
     "output_type": "stream",
     "text": [
      "Generated Graph:{0: {1: 5, 2: 5, 3: 6, 4: 4}, 1: {0: 4, 2: 5, 3: 6, 4: 4}, 2: {0: 4, 1: 5, 3: 6, 4: 4}, 3: {0: 4, 1: 5, 2: 5, 4: 4}, 4: {0: 4, 1: 5, 2: 5, 3: 6}}\n"
     ]
    }
   ],
   "source": [
    "def generate_data(n, weight_range):\n",
    "    \"\"\"\n",
    "    Generates a list of tuples representing items with weights and values.\n",
    "\n",
    "    :param n: Number of items to generate\n",
    "    :param weight_range: Tuple (min_weight, max_weight) for item weights\n",
    "    :return: complete ponderate graph\n",
    "    \"\"\"\n",
    "\n",
    "    import random\n",
    "\n",
    "    # Generate random weights and values\n",
    "    items = []\n",
    "    for i in range(n):\n",
    "        weight = random.randint(weight_range[0], weight_range[1])\n",
    "        value = random.randint(1, 100)  # Random value between 1 and 100\n",
    "\n",
    "        # add perturbation to the weight\n",
    "        value *= random.choices([1, 2], weights=[0.8, 0.2])[0]\n",
    "        \n",
    "        items.append((weight, value))\n",
    "\n",
    "    # Create a complete ponderate graph\n",
    "    graph = {}\n",
    "    for i in range(n):\n",
    "        graph[i] = {}\n",
    "        for j in range(n):\n",
    "            if i != j:\n",
    "                graph[i][j] = items[j][0]  # Weight of the edge is the weight of the item\n",
    "\n",
    "    return graph\n",
    "\n",
    "graph = generate_data(5, (1, 10))\n",
    "print(\"Generated Graph:\" + str(graph))"
   ]
  },
  {
   "cell_type": "markdown",
   "metadata": {},
   "source": [
    "Pour nous permettre de visualiser les résultats, nous allons également utiliser la bibliothèque Matplotlib pour tracer le graphe du TSP et afficher la solution trouvée par CPLEX."
   ]
  },
  {
   "cell_type": "code",
   "execution_count": 5,
   "metadata": {},
   "outputs": [
    {
     "data": {
      "image/png": "[encoded data removed]",
      "text/plain": [
       "<Figure size 640x480 with 1 Axes>"
      ]
     },
     "metadata": {},
     "output_type": "display_data"
    }
   ],
   "source": [
    "import networkx as nx\n",
    "import matplotlib.pyplot as plt\n",
    "\n",
    "def dict_to_graph(graph_dict):\n",
    "    G = nx.Graph()  # Pour un graphe non orienté\n",
    "    for node, neighbors in graph_dict.items():\n",
    "        for neighbor, weight in neighbors.items():\n",
    "            G.add_edge(node, neighbor, weight=weight)\n",
    "    return G\n",
    "\n",
    "# Création\n",
    "G = dict_to_graph(graph)\n",
    "\n",
    "# Affichage\n",
    "pos = nx.spring_layout(G, seed=42)  # placement des nœuds\n",
    "nx.draw(G, pos, with_labels=True, node_color='lightblue', node_size=700)\n",
    "edge_labels = nx.get_edge_attributes(G, 'weight')\n",
    "nx.draw_networkx_edge_labels(G, pos, edge_labels=edge_labels)\n",
    "plt.title(\"Graphe généré à partir d'un dictionnaire\")\n",
    "plt.show()\n"
   ]
  },
  {
   "cell_type": "markdown",
   "metadata": {},
   "source": [
    "Ensuite nous allons utiliser le solveur CPLEX pour résoudre le problème du TSP en utilisant la modélisation PLNE.\n",
    "\n",
    "Nous utilisons le package `docplex` de CPLEX pour modéliser et résoudre le problème.\n",
    "\n",
    "Il faut installer le package `docplex` et `cplex` pour utiliser CPLEX. "
   ]
  },
  {
   "cell_type": "code",
   "execution_count": 6,
   "metadata": {},
   "outputs": [
    {
     "name": "stdout",
     "output_type": "stream",
     "text": [
      "Version identifier: 22.1.1.0 | 2023-06-15 | d64d5bd77\n",
      "CPXPARAM_Read_DataCheck                          1\n",
      "Found incumbent of value 24.000000 after 0.00 sec. (0.00 ticks)\n",
      "Tried aggregator 1 time.\n",
      "MIP Presolve eliminated 1 rows and 5 columns.\n",
      "Reduced MIP has 10 rows, 20 columns, and 40 nonzeros.\n",
      "Reduced MIP has 20 binaries, 0 generals, 0 SOSs, and 0 indicators.\n",
      "Presolve time = 0.00 sec. (0.02 ticks)\n",
      "Probing time = 0.00 sec. (0.01 ticks)\n",
      "Tried aggregator 1 time.\n",
      "Detecting symmetries...\n",
      "Reduced MIP has 10 rows, 20 columns, and 40 nonzeros.\n",
      "Reduced MIP has 20 binaries, 0 generals, 0 SOSs, and 0 indicators.\n",
      "Presolve time = 0.00 sec. (0.03 ticks)\n",
      "Probing time = 0.00 sec. (0.01 ticks)\n",
      "Clique table members: 10.\n",
      "MIP emphasis: balance optimality and feasibility.\n",
      "MIP search method: dynamic search.\n",
      "Parallel mode: deterministic, using up to 8 threads.\n",
      "Root relaxation solution time = 0.00 sec. (0.02 ticks)\n",
      "\n",
      "        Nodes                                         Cuts/\n",
      "   Node  Left     Objective  IInf  Best Integer    Best Bound    ItCnt     Gap\n",
      "\n",
      "*     0+    0                           24.0000        0.0000           100.00%\n",
      "      0     0        cutoff             24.0000                      5    0.00%\n",
      "\n",
      "Root node processing (before b&c):\n",
      "  Real time             =    0.03 sec. (0.14 ticks)\n",
      "Parallel b&c, 8 threads:\n",
      "  Real time             =    0.00 sec. (0.00 ticks)\n",
      "  Sync time (average)   =    0.00 sec.\n",
      "  Wait time (average)   =    0.00 sec.\n",
      "                          ------------\n",
      "Total (root+branch&cut) =    0.03 sec. (0.14 ticks)\n",
      "Solution found:\n",
      "Edge from 0 to 1 with weight 5\n",
      "Edge from 1 to 0 with weight 4\n",
      "Edge from 2 to 3 with weight 6\n",
      "Edge from 3 to 4 with weight 4\n",
      "Edge from 4 to 2 with weight 5\n"
     ]
    }
   ],
   "source": [
    "from docplex.mp.model import Model\n",
    "\n",
    "def use_solver(graph): \n",
    "    model = Model(\"tsp\")\n",
    "    n = len(graph)\n",
    "\n",
    "    # define decision variables\n",
    "    x = model.binary_var_matrix(n, n, name=\"x\")\n",
    "\n",
    "    # define objective function\n",
    "    model.minimize(model.sum(graph[i][j] * x[i, j] for i in range(n) for j in range(n) if i != j))\n",
    "\n",
    "    # define constraints\n",
    "    for i in range(n):\n",
    "        model.add_constraint(model.sum(x[i, j] for j in range(n) if i != j) == 1, ctname=\"outflow_\" + str(i))\n",
    "        model.add_constraint(model.sum(x[j, i] for j in range(n) if i != j) == 1, ctname=\"inflow_\" + str(i))\n",
    "    model.add_constraint(model.sum(x[i, i] for i in range(n)) == 0, ctname=\"no_self_loops\")\n",
    "\n",
    "    # Solve the model\n",
    "    solution = model.solve(log_output=True)\n",
    "    if solution:\n",
    "        print(\"Solution found:\")\n",
    "        for i in range(n):\n",
    "            for j in range(n):\n",
    "                if i != j and x[i, j].solution_value > 0.5:\n",
    "                    print(f\"Edge from {i} to {j} with weight {graph[i][j]}\")\n",
    "    else:\n",
    "        print(\"No solution found.\")\n",
    "\n",
    "use_solver(graph)"
   ]
  },
  {
   "cell_type": "code",
   "execution_count": null,
   "metadata": {},
   "outputs": [],
   "source": []
  },
  {
   "cell_type": "markdown",
   "metadata": {},
   "source": [
    "# Bibliographie\n",
    "\n",
    "1. **Voyageur de commerce - Approche métrique**  \n",
    "    [https://www.lri.fr/~hellouin/Agreg/Approx-TSP-m%C3%A9trique.pdf](https://www.lri.fr/~hellouin/Agreg/Approx-TSP-m%C3%A9trique.pdf)\n",
    "\n",
    "2. **Recherche opérationnelle - F. Olive**  \n",
    "    [https://pageperso.lis-lab.fr/~frederic.olive/Materiel/roM1/cours.pdf](https://pageperso.lis-lab.fr/~frederic.olive/Materiel/roM1/cours.pdf)\n",
    "\n",
    "3. **Recherche opérationnelle - Nicolas Bousquet**  \n",
    "    [https://perso.liris.cnrs.fr/nbousquet/ECL_RO/ro_bousquet.pdf](https://perso.liris.cnrs.fr/nbousquet/ECL_RO/ro_bousquet.pdf)\n",
    "\n",
    "4. **Le voyageur de commerce**  \n",
    "    [http://polymorphe.free.fr/cours/ia/tsp/these_chap_4(TSP).pdf](http://polymorphe.free.fr/cours/ia/tsp/these_chap_4(TSP).pdf)"
   ]
  },
  {
   "cell_type": "markdown",
   "metadata": {},
   "source": []
  },
  {
   "cell_type": "markdown",
   "metadata": {},
   "source": []
  }
 ],
 "metadata": {
  "kernelspec": {
   "display_name": "my_global_env",
   "language": "python",
   "name": "python3"
  },
  "language_info": {
   "codemirror_mode": {
    "name": "ipython",
    "version": 3
   },
   "file_extension": ".py",
   "mimetype": "text/x-python",
   "name": "python",
   "nbconvert_exporter": "python",
   "pygments_lexer": "ipython3",
   "version": "3.9.6"
  },
  "orig_nbformat": 4
 },
 "nbformat": 4,
 "nbformat_minor": 2
}
