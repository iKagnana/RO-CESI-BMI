{
 "cells": [
  {
   "attachments": {},
   "cell_type": "markdown",
   "metadata": {},
   "source": [
    "# RECHERCHE OPERATIONNELLE - PROJET \n",
    "\n",
    "## Contexte\n",
    "L’ADEME a lancé un appel à manifestation d’intérêt pour expérimenter de nouvelles solutions de mobilité adaptées aux territoires.\n",
    "\n",
    "Nous sommes CesiCDP, déjà engagés dans la mobilité multimodale intelligente, et nous répondons à cet appel pour obtenir de nouveaux financements. Le projet vise à réduire les déplacements et la consommation des véhicules lors des livraisons, en résolvant un problème algorithmique d’optimisation de tournée sur un réseau routier.\n",
    "\n",
    "## Problématique\n",
    "Nous nous demandons comment optimiser les tournées de livraison pour réduire les déplacements et la consommation des véhicules. Nous devons prendre en compte plusieurs contraintes, telles que la capacité des véhicules, les fenêtres de temps pour les livraisons, et la distance entre les points de livraison.\n",
    "\n",
    "## Contraintes\n",
    "Nous avons décidé de rajouter des contraintes pour rendre le problème plus réaliste en se basant sur un système de livraison de colis. Voici les contraintes que nous avons retenues :\n",
    "1. **Fenêtres temporelles (Time Windows)** : \n",
    "    - Chaque ville doit être visitée dans un certain intervalle de temps. Par exemple, si une ville est disponible uniquement de 8 h à 10 h, le parcours doit respecter cette contrainte.\n",
    "2. **Dépendances entre visites** : Une ville ne peut être visitée qu’après une autre (ex : livraison avant collecte).\n",
    "    - Il faut imposer un ordre de passage dans la tournée.\n",
    "3. **Routes dynamiques ou perturbations** : Les routes peuvent changer pendant la tournée (ex : accidents, météo, fermeture soudaine).\n",
    "    - Il faut gérer des changements en temps réel ou simuler des perturbations dans les données.\n",
    "\n",
    "## Livrables attendus\n",
    "1. Modélisation\n",
    "\n",
    "2. Livrable final du projet"
   ]
  },
  {
   "cell_type": "markdown",
   "metadata": {},
   "source": [
    "# Modélisation du problème\n",
    "\n",
    "Dans un premier temps, nous allons poser les caractéristiques du problème : \n",
    "- **variables de décision** : Le prix du carburant, traffic routier, horaire de la ville, ordre de passage\n",
    "- **contraintes** : fenêtre temporelle, dépendances entre les visites, routes dynamiques et perturbations\n",
    "- **objectifs** : trouver un itinéraire optimisé qui nous permet de passer par toutes les villes de la tournée en une seule fois et retourner au point de départ\n",
    "\n",
    "Une fois que nous avons expliciter le problème, nous allons le modéliser de manière mathématique.\n",
    "Nous remarquons que notre problème est une version métrique du problème du voyageur de commerce (TSP) avec des contraintes supplémentaires le rendant plus réaliste.\n",
    "\n",
    "Voici une version \"algorithmique\" du problème : \n",
    "- **donnée** : un graphe complet pondérée G(S, A) avec un ensemble de sommets S et un ensemble d'arêtes A\n",
    "- **tâche** : trouver un cycle hamiltonien dans G en minimisant la somme des poids des arêtes du cycle\n",
    "\n",
    "## Théorie de la complexité\n",
    "\n",
    "\n",
    "-> Problème NP-difficile : Il n'existe pas d'algorithme polynomial connu pour le résoudre dans le cas général.\n",
    "\n",
    "-> Pour modéliser le problème : \n"
   ]
  },
  {
   "cell_type": "markdown",
   "metadata": {},
   "source": [
    "### Étape 1 – Modélisation de base : Problème du Voyageur de Commerce (TSP)\n",
    "\n",
    "#### Données\n",
    "\n",
    "- Un ensemble de villes $V = \\{v_1, v_2, \\ldots, v_n\\}$\n",
    "- Un graphe complet pondéré $G = (V, E)$\n",
    "- Une fonction de coût $c_{ij} \\geq 0$, représentant la distance ou le temps entre les villes $i$ et $j$\n",
    "\n",
    "#### Variables de décision\n",
    "\n",
    "- $x_{ij} \\in \\{0,1\\}$ : vaut 1 si l'on va de la ville $i$ à la ville $j$, 0 sinon\n",
    "\n",
    "#### Fonction objectif\n",
    "\n",
    "Minimiser la somme des coûts de déplacement :\n",
    "\n",
    "$$\\min \\sum_{i=1}^{n} \\sum_{j=1}^{n} c_{ij} \\cdot x_{ij}$$\n",
    "\n",
    "#### Contraintes\n",
    "\n",
    "1. Chaque ville est quittée une seule fois :\n",
    "\n",
    "$$\\sum_{j=1}^{n} x_{ij} = 1 \\quad \\forall i \\in \\{1, \\dots, n\\}$$\n",
    "\n",
    "2. Chaque ville est visitée une seule fois :\n",
    "\n",
    "$$\\sum_{i=1}^{n} x_{ij} = 1 \\quad \\forall j \\in \\{1, \\dots, n\\}$$\n",
    "\n",
    "3. Élimination des sous-tours (exemple avec contraintes de Miller-Tucker-Zemlin) :\n",
    "\n",
    "On introduit des variables auxiliaires $u_i$ pour chaque ville $i \\in \\{2, \\dots, n\\}$, telles que :\n",
    "\n",
    "$$u_i - u_j + n \\cdot x_{ij} \\leq n - 1 \\quad \\forall i \\neq j, \\quad i, j \\in \\{2, \\dots, n\\}$$\n",
    "\n",
    "---\n",
    "\n",
    "Ce problème est connu pour être **NP-difficile** : il n'existe pas d'algorithme polynomial connu permettant de le résoudre dans le cas général. Il constitue la base de notre modélisation, sur laquelle nous allons maintenant ajouter progressivement des éléments réalistes.\n"
   ]
  },
  {
   "cell_type": "markdown",
   "metadata": {},
   "source": [
    "Ceci étant la modélisation de base du problème du voyageur, nous allons passer à la modélisation métrique du problème rencontré.\n",
    "C’est-à-dire la nature du coût entre deux villes. Dans la modélisation de base du TSP, ce coût est une simple distance. Mais dans notre cas, c’est plus riche, car nous allons chercher à réduire la consommation et les déplacements réels, pas juste à faire court."
   ]
  },
  {
   "cell_type": "markdown",
   "metadata": {},
   "source": [
    "-> On veut remplacer la métrique naïve (distance euclidienne) par une métrique plus représentative du monde réel : consommation de carburant, durée de trajet, trafic, etc."
   ]
  },
  {
   "cell_type": "markdown",
   "metadata": {},
   "source": [
    "### Nature du graphe\n",
    "\n",
    "Avant de parler du coût, soyons clairs :\n",
    "\n",
    "- On reste sur un graphe complet : on suppose qu’il existe une route (au moins théorique) entre chaque paire de villes.\n",
    "- Le graphe est orienté si le coût de i→ji→j est différent de j→ij→i (ce qui est réaliste si trafic ou sens interdits)\n",
    "- Les arêtes sont pondérées par un coût composite.    \n",
    "\n"
   ]
  },
  {
   "cell_type": "markdown",
   "metadata": {},
   "source": [
    "### Définition du coût $c_{ij}$\n",
    "\n",
    "Dans notre contexte, le coût ne se réduit pas à une simple distance. Il peut être défini comme une fonction composite, par exemple :\n",
    "\n",
    "$$c_{ij} = \\alpha \\cdot d_{ij} + \\beta \\cdot t_{ij} + \\gamma \\cdot e_{ij}$$\n",
    "\n",
    "où :\n",
    "\n",
    "- $d_{ij}$ = distance entre les villes $i$ et $j$\n",
    "- $t_{ij}$ = durée estimée de parcours (incluant le trafic)\n",
    "- $e_{ij}$ = estimation de la consommation de carburant ou d'énergie\n",
    "- $\\alpha, \\beta, \\gamma$ = coefficients de pondération (paramètres à définir)\n",
    "\n",
    "Cette formulation permet de moduler l'importance relative de chaque critère selon les priorités du projet (économie de temps, d'énergie, ou distance brute).\n"
   ]
  },
  {
   "cell_type": "markdown",
   "metadata": {},
   "source": [
    "# Bibliographie"
   ]
  },
  {
   "cell_type": "markdown",
   "metadata": {},
   "source": []
  }
 ],
 "metadata": {
  "kernelspec": {
   "display_name": "Python 3",
   "language": "python",
   "name": "python3"
  },
  "language_info": {
   "codemirror_mode": {
    "name": "ipython",
    "version": 3
   },
   "file_extension": ".py",
   "mimetype": "text/x-python",
   "name": "python",
   "nbconvert_exporter": "python",
   "pygments_lexer": "ipython3",
   "version": "3.11.2"
  },
  "orig_nbformat": 4
 },
 "nbformat": 4,
 "nbformat_minor": 2
}
